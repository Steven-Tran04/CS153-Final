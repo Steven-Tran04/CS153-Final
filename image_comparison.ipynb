{
 "cells": [
  {
   "cell_type": "code",
   "execution_count": null,
   "metadata": {},
   "outputs": [],
   "source": [
    "from PIL import Image\n",
    "import numpy as np\n",
    "import cv2"
   ]
  },
  {
   "cell_type": "code",
   "execution_count": null,
   "metadata": {},
   "outputs": [],
   "source": [
    "def load_img(impath):\n",
    "    \"\"\"\n",
    "    Loads an image from a specified location and returns it in RGB format.\n",
    "    Input:\n",
    "    - impath: a string specifying the target image location.\n",
    "    Returns an RGB image.\n",
    "    \"\"\"\n",
    "    image_bgr = cv2.imread(impath, cv2.IMREAD_COLOR)        # cv2 reads image in bgr format\n",
    "    image_rgb = cv2.cvtColor(image_bgr, cv2.COLOR_BGR2RGB)  # convert to rgb format\n",
    "    return image_rgb"
   ]
  },
  {
   "cell_type": "code",
   "execution_count": null,
   "metadata": {},
   "outputs": [],
   "source": [
    "# Formerly used to mask reconstructed hands\n",
    "def image_difference(image_path1, image_path2, output_path):\n",
    "    \"\"\"\n",
    "    Takes the difference between two images and saves it as a JPG.\n",
    "    Inputs:\n",
    "    - image_path1: a string specifying the path to the first image file\n",
    "    - image_path2: a string specifying the path to the second image file\n",
    "    - output_path: a string specifying the path to where the difference of the two images will be saved\n",
    "    \"\"\"\n",
    "    img1 = load_img(image_path1)\n",
    "    img2 = load_img(image_path2)\n",
    "\n",
    "    # Ensure both images are the same size\n",
    "    if img1.size != img2.size:\n",
    "        raise ValueError(\"Images must be the same size.\")\n",
    "\n",
    "    # Calculate the difference using numpy\n",
    "    arr1 = np.array(img1, dtype=np.int16)\n",
    "    arr2 = np.array(img2, dtype=np.int16)\n",
    "    diff = (arr1 - arr2).astype(np.uint8)\n",
    "\n",
    "    # Convert back to an image\n",
    "    diff_image = Image.fromarray(diff, mode=\"RGB\")\n",
    "\n",
    "    # Save the output\n",
    "    diff_image.save(output_path, \"JPEG\")"
   ]
  },
  {
   "cell_type": "code",
   "execution_count": null,
   "metadata": {},
   "outputs": [],
   "source": [
    "def calculate_mse(image_path1, image_path2):\n",
    "    \"\"\"\n",
    "    Calculates the mean square error,\n",
    "    which is normalized by the number of pixels taken up by the reconstructed hands\n",
    "    Inputs:\n",
    "    - image_path1: a string specifying the path to the first image file\n",
    "    - image_path2: a string specifying the path to the second image file\n",
    "    \"\"\"\n",
    "    # Load images\n",
    "    img1 = load_img(image_path1)\n",
    "    img2 = load_img(image_path2)\n",
    "    [h, w, _] = img2.shape\n",
    "    \n",
    "    # Ensure both images are the same size\n",
    "    if img1.size != img2.size:\n",
    "        raise ValueError(\"Images must be the same size.\")\n",
    "\n",
    "    # Count number of pixels in hand\n",
    "    handpixels = 0\n",
    "    for x in range(w):\n",
    "        for y in range(h):\n",
    "            if img1[y,x,0] > 25:    # Pixels that are not masked\n",
    "                handpixels += 1\n",
    "\n",
    "    # Calculate MSE\n",
    "    mse = 0\n",
    "    for x in range(w):\n",
    "        for y in range(h):\n",
    "            squared_diff = (img1 -img2) ** 2\n",
    "            mse = np.sum(squared_diff)\n",
    "            \n",
    "    normalized_mse = mse /(handpixels)\n",
    "    \n",
    "    return normalized_mse"
   ]
  }
 ],
 "metadata": {
  "kernelspec": {
   "display_name": "base",
   "language": "python",
   "name": "python3"
  },
  "language_info": {
   "codemirror_mode": {
    "name": "ipython",
    "version": 3
   },
   "file_extension": ".py",
   "mimetype": "text/x-python",
   "name": "python",
   "nbconvert_exporter": "python",
   "pygments_lexer": "ipython3",
   "version": "3.8.8"
  }
 },
 "nbformat": 4,
 "nbformat_minor": 2
}
